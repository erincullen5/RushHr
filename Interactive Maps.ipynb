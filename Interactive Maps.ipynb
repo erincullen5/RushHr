{
 "cells": [
  {
   "cell_type": "code",
   "execution_count": 40,
   "metadata": {},
   "outputs": [],
   "source": [
    "import pandas as pd \n",
    "import folium\n",
    "import matplotlib.pyplot as plt"
   ]
  },
  {
   "cell_type": "code",
   "execution_count": 2,
   "metadata": {},
   "outputs": [
    {
     "data": {
      "text/html": [
       "<div>\n",
       "<style scoped>\n",
       "    .dataframe tbody tr th:only-of-type {\n",
       "        vertical-align: middle;\n",
       "    }\n",
       "\n",
       "    .dataframe tbody tr th {\n",
       "        vertical-align: top;\n",
       "    }\n",
       "\n",
       "    .dataframe thead th {\n",
       "        text-align: right;\n",
       "    }\n",
       "</style>\n",
       "<table border=\"1\" class=\"dataframe\">\n",
       "  <thead>\n",
       "    <tr style=\"text-align: right;\">\n",
       "      <th></th>\n",
       "      <th>id</th>\n",
       "      <th>name</th>\n",
       "      <th>city</th>\n",
       "      <th>latitude</th>\n",
       "      <th>longitude</th>\n",
       "      <th>dpcapacity</th>\n",
       "      <th>online_date</th>\n",
       "      <th>Unnamed: 7</th>\n",
       "    </tr>\n",
       "  </thead>\n",
       "  <tbody>\n",
       "    <tr>\n",
       "      <th>580</th>\n",
       "      <td>622</td>\n",
       "      <td>California Ave &amp; Cortez St</td>\n",
       "      <td>Chicago</td>\n",
       "      <td>41.900363</td>\n",
       "      <td>-87.696704</td>\n",
       "      <td>15</td>\n",
       "      <td>4/27/2017 9:17</td>\n",
       "      <td>NaN</td>\n",
       "    </tr>\n",
       "    <tr>\n",
       "      <th>581</th>\n",
       "      <td>623</td>\n",
       "      <td>Michigan Ave &amp; 8th St</td>\n",
       "      <td>Chicago</td>\n",
       "      <td>41.872773</td>\n",
       "      <td>-87.623981</td>\n",
       "      <td>31</td>\n",
       "      <td>6/13/2017 15:23</td>\n",
       "      <td>NaN</td>\n",
       "    </tr>\n",
       "    <tr>\n",
       "      <th>582</th>\n",
       "      <td>624</td>\n",
       "      <td>Dearborn St &amp; Van Buren St (*)</td>\n",
       "      <td>Chicago</td>\n",
       "      <td>41.876268</td>\n",
       "      <td>-87.629155</td>\n",
       "      <td>16</td>\n",
       "      <td>7/26/2017 21:25</td>\n",
       "      <td>NaN</td>\n",
       "    </tr>\n",
       "    <tr>\n",
       "      <th>583</th>\n",
       "      <td>625</td>\n",
       "      <td>Chicago Ave &amp; Dempster St</td>\n",
       "      <td>Evanston</td>\n",
       "      <td>42.041691</td>\n",
       "      <td>-87.680687</td>\n",
       "      <td>15</td>\n",
       "      <td>8/11/2017 16:53</td>\n",
       "      <td>NaN</td>\n",
       "    </tr>\n",
       "    <tr>\n",
       "      <th>584</th>\n",
       "      <td>626</td>\n",
       "      <td>Delano Ct &amp; Roosevelt Rd</td>\n",
       "      <td>Chicago</td>\n",
       "      <td>41.867491</td>\n",
       "      <td>-87.632190</td>\n",
       "      <td>19</td>\n",
       "      <td>12/21/2017 22:06</td>\n",
       "      <td>NaN</td>\n",
       "    </tr>\n",
       "  </tbody>\n",
       "</table>\n",
       "</div>"
      ],
      "text/plain": [
       "      id                            name      city   latitude  longitude  \\\n",
       "580  622      California Ave & Cortez St   Chicago  41.900363 -87.696704   \n",
       "581  623           Michigan Ave & 8th St   Chicago  41.872773 -87.623981   \n",
       "582  624  Dearborn St & Van Buren St (*)   Chicago  41.876268 -87.629155   \n",
       "583  625       Chicago Ave & Dempster St  Evanston  42.041691 -87.680687   \n",
       "584  626        Delano Ct & Roosevelt Rd   Chicago  41.867491 -87.632190   \n",
       "\n",
       "     dpcapacity       online_date  Unnamed: 7  \n",
       "580          15    4/27/2017 9:17         NaN  \n",
       "581          31   6/13/2017 15:23         NaN  \n",
       "582          16   7/26/2017 21:25         NaN  \n",
       "583          15   8/11/2017 16:53         NaN  \n",
       "584          19  12/21/2017 22:06         NaN  "
      ]
     },
     "execution_count": 2,
     "metadata": {},
     "output_type": "execute_result"
    }
   ],
   "source": [
    "# save file path to variable\n",
    "stations = \"Data/Divvy_Stations_2017_Q3Q4.csv\"\n",
    "\n",
    "# read with pandas\n",
    "stations = pd.read_csv(stations)\n",
    "stations.tail()"
   ]
  },
  {
   "cell_type": "code",
   "execution_count": 3,
   "metadata": {},
   "outputs": [
    {
     "data": {
      "text/html": [
       "<div>\n",
       "<style scoped>\n",
       "    .dataframe tbody tr th:only-of-type {\n",
       "        vertical-align: middle;\n",
       "    }\n",
       "\n",
       "    .dataframe tbody tr th {\n",
       "        vertical-align: top;\n",
       "    }\n",
       "\n",
       "    .dataframe thead th {\n",
       "        text-align: right;\n",
       "    }\n",
       "</style>\n",
       "<table border=\"1\" class=\"dataframe\">\n",
       "  <thead>\n",
       "    <tr style=\"text-align: right;\">\n",
       "      <th></th>\n",
       "      <th>trip_id</th>\n",
       "      <th>start_time</th>\n",
       "      <th>end_time</th>\n",
       "      <th>bikeid</th>\n",
       "      <th>tripduration</th>\n",
       "      <th>from_station_id</th>\n",
       "      <th>from_station_name</th>\n",
       "      <th>to_station_id</th>\n",
       "      <th>to_station_name</th>\n",
       "      <th>usertype</th>\n",
       "      <th>gender</th>\n",
       "      <th>birthyear</th>\n",
       "    </tr>\n",
       "  </thead>\n",
       "  <tbody>\n",
       "    <tr>\n",
       "      <th>669234</th>\n",
       "      <td>16734070</td>\n",
       "      <td>10/1/2017 0:01</td>\n",
       "      <td>10/1/2017 0:15</td>\n",
       "      <td>1099</td>\n",
       "      <td>837</td>\n",
       "      <td>289</td>\n",
       "      <td>Wells St &amp; Concord Ln</td>\n",
       "      <td>226</td>\n",
       "      <td>Racine Ave &amp; Belmont Ave</td>\n",
       "      <td>Subscriber</td>\n",
       "      <td>Male</td>\n",
       "      <td>1991.0</td>\n",
       "    </tr>\n",
       "    <tr>\n",
       "      <th>669235</th>\n",
       "      <td>16734069</td>\n",
       "      <td>10/1/2017 0:00</td>\n",
       "      <td>10/1/2017 0:07</td>\n",
       "      <td>3688</td>\n",
       "      <td>366</td>\n",
       "      <td>45</td>\n",
       "      <td>Michigan Ave &amp; Congress Pkwy</td>\n",
       "      <td>52</td>\n",
       "      <td>Michigan Ave &amp; Lake St</td>\n",
       "      <td>Customer</td>\n",
       "      <td>NaN</td>\n",
       "      <td>NaN</td>\n",
       "    </tr>\n",
       "    <tr>\n",
       "      <th>669236</th>\n",
       "      <td>16734068</td>\n",
       "      <td>10/1/2017 0:00</td>\n",
       "      <td>10/1/2017 0:05</td>\n",
       "      <td>1416</td>\n",
       "      <td>264</td>\n",
       "      <td>520</td>\n",
       "      <td>Greenview Ave &amp; Jarvis Ave</td>\n",
       "      <td>447</td>\n",
       "      <td>Glenwood Ave &amp; Morse Ave</td>\n",
       "      <td>Customer</td>\n",
       "      <td>NaN</td>\n",
       "      <td>NaN</td>\n",
       "    </tr>\n",
       "    <tr>\n",
       "      <th>669237</th>\n",
       "      <td>16734067</td>\n",
       "      <td>10/1/2017 0:00</td>\n",
       "      <td>10/1/2017 0:06</td>\n",
       "      <td>5396</td>\n",
       "      <td>361</td>\n",
       "      <td>288</td>\n",
       "      <td>Larrabee St &amp; Armitage Ave</td>\n",
       "      <td>289</td>\n",
       "      <td>Wells St &amp; Concord Ln</td>\n",
       "      <td>Subscriber</td>\n",
       "      <td>Female</td>\n",
       "      <td>1984.0</td>\n",
       "    </tr>\n",
       "    <tr>\n",
       "      <th>669238</th>\n",
       "      <td>16734066</td>\n",
       "      <td>10/1/2017 0:00</td>\n",
       "      <td>10/1/2017 0:12</td>\n",
       "      <td>5802</td>\n",
       "      <td>741</td>\n",
       "      <td>135</td>\n",
       "      <td>Halsted St &amp; 21st St</td>\n",
       "      <td>129</td>\n",
       "      <td>Blue Island Ave &amp; 18th St</td>\n",
       "      <td>Subscriber</td>\n",
       "      <td>Female</td>\n",
       "      <td>1994.0</td>\n",
       "    </tr>\n",
       "  </tbody>\n",
       "</table>\n",
       "</div>"
      ],
      "text/plain": [
       "         trip_id      start_time        end_time  bikeid  tripduration  \\\n",
       "669234  16734070  10/1/2017 0:01  10/1/2017 0:15    1099           837   \n",
       "669235  16734069  10/1/2017 0:00  10/1/2017 0:07    3688           366   \n",
       "669236  16734068  10/1/2017 0:00  10/1/2017 0:05    1416           264   \n",
       "669237  16734067  10/1/2017 0:00  10/1/2017 0:06    5396           361   \n",
       "669238  16734066  10/1/2017 0:00  10/1/2017 0:12    5802           741   \n",
       "\n",
       "        from_station_id             from_station_name  to_station_id  \\\n",
       "669234              289         Wells St & Concord Ln            226   \n",
       "669235               45  Michigan Ave & Congress Pkwy             52   \n",
       "669236              520    Greenview Ave & Jarvis Ave            447   \n",
       "669237              288    Larrabee St & Armitage Ave            289   \n",
       "669238              135          Halsted St & 21st St            129   \n",
       "\n",
       "                  to_station_name    usertype  gender  birthyear  \n",
       "669234   Racine Ave & Belmont Ave  Subscriber    Male     1991.0  \n",
       "669235     Michigan Ave & Lake St    Customer     NaN        NaN  \n",
       "669236   Glenwood Ave & Morse Ave    Customer     NaN        NaN  \n",
       "669237      Wells St & Concord Ln  Subscriber  Female     1984.0  \n",
       "669238  Blue Island Ave & 18th St  Subscriber  Female     1994.0  "
      ]
     },
     "execution_count": 3,
     "metadata": {},
     "output_type": "execute_result"
    }
   ],
   "source": [
    "# read with pandas\n",
    "q_one = pd.read_csv(\"Data/Divvy_Trips_2017_Q1.csv\")\n",
    "q_two = pd.read_csv(\"Data/Divvy_Trips_2017_Q2.csv\")\n",
    "q_three = pd.read_csv(\"Data/Divvy_Trips_2017_Q3.csv\")\n",
    "q_four = pd.read_csv(\"Data/Divvy_Trips_2017_Q4.csv\")\n",
    "divvy_data_2017 = pd.concat([q_one,q_two, q_three, q_four])\n",
    "divvy_data_2017.tail()"
   ]
  },
  {
   "cell_type": "code",
   "execution_count": 33,
   "metadata": {},
   "outputs": [
    {
     "data": {
      "text/plain": [
       "pandas.core.frame.DataFrame"
      ]
     },
     "execution_count": 33,
     "metadata": {},
     "output_type": "execute_result"
    }
   ],
   "source": [
    "divvy_data_2017[\"start_time\"] = pd.to_datetime(divvy_data_2017[\"start_time\"])\n",
    "divvy_data_2017[\"end_time\"] = pd.to_datetime(divvy_data_2017[\"end_time\"])\n",
    "divvy_data_2017[\"month\"] = divvy_data_2017[\"start_time\"].map(lambda x: x.month)\n",
    "divvy_data_2017.head()\n",
    "type(divvy_data_2017)"
   ]
  },
  {
   "cell_type": "code",
   "execution_count": 75,
   "metadata": {
    "scrolled": false
   },
   "outputs": [],
   "source": [
    "monthly_rides = divvy_data_2017[\"month\"].value_counts()\n",
    "monthly_rides = monthly_rides.sort_index()\n",
    "# monthly_rides = monthly_rides.apply('{:,}'.format)"
   ]
  },
  {
   "cell_type": "code",
   "execution_count": 78,
   "metadata": {},
   "outputs": [
    {
     "data": {
      "image/png": "[encoded data removed]",
      "text/plain": [
       "<matplotlib.figure.Figure at 0x139473908>"
      ]
     },
     "metadata": {},
     "output_type": "display_data"
    }
   ],
   "source": [
    "monthly_rides.plot.bar()\n",
    "plt.title(\"Number of Rides per Month\")\n",
    "plt.ylabel(\"Number of rides\")\n",
    "plt.savefig(\"outputs/bargraph.png\")"
   ]
  },
  {
   "cell_type": "code",
   "execution_count": 5,
   "metadata": {},
   "outputs": [],
   "source": [
    "divvy_data_2017.to_csv(\"outputs/divvy_data_2017.csv\")"
   ]
  },
  {
   "cell_type": "code",
   "execution_count": null,
   "metadata": {},
   "outputs": [],
   "source": [
    "def divvy_by_bike (bikeId):\n",
    "    selectedbike = "
   ]
  },
  {
   "cell_type": "code",
   "execution_count": 267,
   "metadata": {},
   "outputs": [],
   "source": [
    "def divvy_data_by_month (month): \n",
    "    \n",
    "    #select one month of the year\n",
    "    month_subset = divvy_data_2017[divvy_data_2017[\"month\"]==month]\n",
    "    \n",
    "    #count departures from each origin\n",
    "    dep_counts =  month_subset.groupby(\"from_station_id\").count().iloc[:,[0]]\n",
    "    dep_counts=dep_counts.reset_index()\n",
    "    dep_counts=dep_counts.rename(columns ={\"trip_id\":\"Dep Counts\",\"from_station_id\":\"id\"})\n",
    "    global merge_df\n",
    "    merge_df = dep_counts.merge(stations,on=\"id\")\n",
    "    \n",
    "    # count trips for each origin\n",
    "    arrival_counts =  month_subset.groupby(\"to_station_id\").count().iloc[:,[0]]\n",
    "    arrival_counts=arrival_counts.reset_index().rename(columns = {\"trip_id\":\"Arrival Counts\",\"to_station_id\":\"id\"})\n",
    "    merge_df = merge_df.merge(arrival_counts, on=\"id\")\n",
    "    merge_df=merge_df.drop(columns=[\"Unnamed: 7\"])\n",
    "    return merge_df\n",
    "\n",
    "def plot_data (merge_df):\n",
    "    chicago_map = folium.Map(location = [41.883132,-87.637321], tiles = \"Stamen toner\")\n",
    "    \n",
    "    for index, row in merge_df.iterrows():\n",
    "        change = abs(row['Dep Counts'] - row['Arrival Counts'])\n",
    "        circle_size = change/50\n",
    "        folium.CircleMarker(location = (row['latitude'],row['longitude']),\n",
    "                  radius =circle_size, color=\"red\", popup=row[\"name\"]).add_to(chicago_map)\n",
    "#     return chicago_map\n",
    "    chicago_map.save(\"outputs/net_changes.html\")\n",
    "        \n",
    "        "
   ]
  },
  {
   "cell_type": "code",
   "execution_count": 271,
   "metadata": {},
   "outputs": [
    {
     "name": "stdout",
     "output_type": "stream",
     "text": [
      "what month do you want to look at (1-12)5\n"
     ]
    }
   ],
   "source": [
    "month = input('what month do you want to look at (1-12)')\n",
    "x = int(month)\n",
    "divvy_data_by_month(x)\n",
    "plot_data(merge_df)"
   ]
  }
 ],
 "metadata": {
  "kernelspec": {
   "display_name": "Python [conda env:anaconda3]",
   "language": "python",
   "name": "conda-env-anaconda3-py"
  },
  "language_info": {
   "codemirror_mode": {
    "name": "ipython",
    "version": 3
   },
   "file_extension": ".py",
   "mimetype": "text/x-python",
   "name": "python",
   "nbconvert_exporter": "python",
   "pygments_lexer": "ipython3",
   "version": "3.6.4"
  }
 },
 "nbformat": 4,
 "nbformat_minor": 2
}
