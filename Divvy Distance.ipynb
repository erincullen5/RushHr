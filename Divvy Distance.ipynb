{
 "cells": [
  {
   "cell_type": "markdown",
   "metadata": {},
   "source": [
    "# Calculating the distance bikes travel "
   ]
  },
  {
   "cell_type": "code",
   "execution_count": 1,
   "metadata": {},
   "outputs": [],
   "source": [
    "#Import Dependencies\n",
    "import pandas as pd \n",
    "import folium \n",
    "import matplotlib.pyplot as plt \n",
    "import os\n",
    "from geopy.distance import great_circle\n",
    "None"
   ]
  },
  {
   "cell_type": "code",
   "execution_count": 2,
   "metadata": {},
   "outputs": [],
   "source": [
    "#Read in the divvy_data_2017 file which contains all of the rides and drop the unnecessary columns\n",
    "csv_file = os.path.join(\"outputs/divvy_data_2017.csv\")\n",
    "master_data_2017 = pd.read_csv(csv_file)\n",
    "data = master_data_2017.drop(columns = [\"usertype\",\"gender\",\"birthyear\",\"Unnamed: 0\"])\n",
    "data = data.rename(columns = {\"from_station_id\":\"id\"})\n",
    "\n",
    "#Read in the Station data file and drop the unnecessary columns\n",
    "csv_station = os.path.join(\"Data/Divvy_Stations_2017_Q3Q4.csv\")\n",
    "station_df = pd.read_csv(csv_station)\n",
    "station_drop = station_df.drop(columns = ['Unnamed: 7','dpcapacity','online_date','name','city'])"
   ]
  },
  {
   "cell_type": "code",
   "execution_count": 3,
   "metadata": {},
   "outputs": [
    {
     "data": {
      "text/html": [
       "<div>\n",
       "<style scoped>\n",
       "    .dataframe tbody tr th:only-of-type {\n",
       "        vertical-align: middle;\n",
       "    }\n",
       "\n",
       "    .dataframe tbody tr th {\n",
       "        vertical-align: top;\n",
       "    }\n",
       "\n",
       "    .dataframe thead th {\n",
       "        text-align: right;\n",
       "    }\n",
       "</style>\n",
       "<table border=\"1\" class=\"dataframe\">\n",
       "  <thead>\n",
       "    <tr style=\"text-align: right;\">\n",
       "      <th></th>\n",
       "      <th>trip_id</th>\n",
       "      <th>start_time</th>\n",
       "      <th>end_time</th>\n",
       "      <th>bikeid</th>\n",
       "      <th>tripduration</th>\n",
       "      <th>from_id</th>\n",
       "      <th>from_station_name</th>\n",
       "      <th>to_id</th>\n",
       "      <th>to_station_name</th>\n",
       "      <th>month</th>\n",
       "      <th>latitude_x</th>\n",
       "      <th>longitude_x</th>\n",
       "      <th>latitude_y</th>\n",
       "      <th>longitude_y</th>\n",
       "    </tr>\n",
       "  </thead>\n",
       "  <tbody>\n",
       "    <tr>\n",
       "      <th>0</th>\n",
       "      <td>13518905</td>\n",
       "      <td>2017-03-31 23:59:07</td>\n",
       "      <td>2017-04-01 00:13:24</td>\n",
       "      <td>5292</td>\n",
       "      <td>857</td>\n",
       "      <td>66</td>\n",
       "      <td>Clinton St &amp; Lake St</td>\n",
       "      <td>171</td>\n",
       "      <td>May St &amp; Cullerton St</td>\n",
       "      <td>3</td>\n",
       "      <td>41.885637</td>\n",
       "      <td>-87.641823</td>\n",
       "      <td>41.855136</td>\n",
       "      <td>-87.654127</td>\n",
       "    </tr>\n",
       "    <tr>\n",
       "      <th>1</th>\n",
       "      <td>13144289</td>\n",
       "      <td>2017-02-04 00:26:16</td>\n",
       "      <td>2017-02-04 00:42:14</td>\n",
       "      <td>1716</td>\n",
       "      <td>958</td>\n",
       "      <td>66</td>\n",
       "      <td>Clinton St &amp; Lake St</td>\n",
       "      <td>171</td>\n",
       "      <td>May St &amp; Cullerton St</td>\n",
       "      <td>2</td>\n",
       "      <td>41.885637</td>\n",
       "      <td>-87.641823</td>\n",
       "      <td>41.855136</td>\n",
       "      <td>-87.654127</td>\n",
       "    </tr>\n",
       "    <tr>\n",
       "      <th>2</th>\n",
       "      <td>13721758</td>\n",
       "      <td>2017-04-20 02:30:19</td>\n",
       "      <td>2017-04-20 02:45:13</td>\n",
       "      <td>1135</td>\n",
       "      <td>894</td>\n",
       "      <td>66</td>\n",
       "      <td>Clinton St &amp; Lake St</td>\n",
       "      <td>171</td>\n",
       "      <td>May St &amp; Cullerton St</td>\n",
       "      <td>4</td>\n",
       "      <td>41.885637</td>\n",
       "      <td>-87.641823</td>\n",
       "      <td>41.855136</td>\n",
       "      <td>-87.654127</td>\n",
       "    </tr>\n",
       "    <tr>\n",
       "      <th>3</th>\n",
       "      <td>13695538</td>\n",
       "      <td>2017-04-18 01:32:11</td>\n",
       "      <td>2017-04-18 01:46:27</td>\n",
       "      <td>1701</td>\n",
       "      <td>856</td>\n",
       "      <td>66</td>\n",
       "      <td>Clinton St &amp; Lake St</td>\n",
       "      <td>171</td>\n",
       "      <td>May St &amp; Cullerton St</td>\n",
       "      <td>4</td>\n",
       "      <td>41.885637</td>\n",
       "      <td>-87.641823</td>\n",
       "      <td>41.855136</td>\n",
       "      <td>-87.654127</td>\n",
       "    </tr>\n",
       "    <tr>\n",
       "      <th>4</th>\n",
       "      <td>15718061</td>\n",
       "      <td>2017-08-10 16:40:12</td>\n",
       "      <td>2017-08-10 17:04:31</td>\n",
       "      <td>5931</td>\n",
       "      <td>1459</td>\n",
       "      <td>199</td>\n",
       "      <td>Wabash Ave &amp; Grand Ave</td>\n",
       "      <td>171</td>\n",
       "      <td>May St &amp; Cullerton St</td>\n",
       "      <td>8</td>\n",
       "      <td>41.891466</td>\n",
       "      <td>-87.626761</td>\n",
       "      <td>41.855136</td>\n",
       "      <td>-87.654127</td>\n",
       "    </tr>\n",
       "  </tbody>\n",
       "</table>\n",
       "</div>"
      ],
      "text/plain": [
       "    trip_id           start_time             end_time  bikeid  tripduration  \\\n",
       "0  13518905  2017-03-31 23:59:07  2017-04-01 00:13:24    5292           857   \n",
       "1  13144289  2017-02-04 00:26:16  2017-02-04 00:42:14    1716           958   \n",
       "2  13721758  2017-04-20 02:30:19  2017-04-20 02:45:13    1135           894   \n",
       "3  13695538  2017-04-18 01:32:11  2017-04-18 01:46:27    1701           856   \n",
       "4  15718061  2017-08-10 16:40:12  2017-08-10 17:04:31    5931          1459   \n",
       "\n",
       "   from_id       from_station_name  to_id        to_station_name  month  \\\n",
       "0       66    Clinton St & Lake St    171  May St & Cullerton St      3   \n",
       "1       66    Clinton St & Lake St    171  May St & Cullerton St      2   \n",
       "2       66    Clinton St & Lake St    171  May St & Cullerton St      4   \n",
       "3       66    Clinton St & Lake St    171  May St & Cullerton St      4   \n",
       "4      199  Wabash Ave & Grand Ave    171  May St & Cullerton St      8   \n",
       "\n",
       "   latitude_x  longitude_x  latitude_y  longitude_y  \n",
       "0   41.885637   -87.641823   41.855136   -87.654127  \n",
       "1   41.885637   -87.641823   41.855136   -87.654127  \n",
       "2   41.885637   -87.641823   41.855136   -87.654127  \n",
       "3   41.885637   -87.641823   41.855136   -87.654127  \n",
       "4   41.891466   -87.626761   41.855136   -87.654127  "
      ]
     },
     "execution_count": 3,
     "metadata": {},
     "output_type": "execute_result"
    }
   ],
   "source": [
    "#Merge the master ride data on the station data TWICE to get the lat and lang for both the to and from stations\n",
    "#MERGE the \"TO STATION\"\n",
    "merged_df = data.merge(station_drop, on=\"id\")\n",
    "merged_df = merged_df.rename(columns = {'id':\"from_id\",\"to_station_id\":'id'})\n",
    "\n",
    "#MERGE AGAIN on the \"FROM STATION\"\n",
    "merged_df = merged_df.merge(station_drop, on='id')\n",
    "merged_df = merged_df.rename(columns ={\"id\":\"to_id\"})\n",
    "#Preview the data\n",
    "merged_df.head()"
   ]
  },
  {
   "cell_type": "code",
   "execution_count": 4,
   "metadata": {},
   "outputs": [],
   "source": [
    "def distance(row):\n",
    "    one = (row[\"latitude_x\"],row[\"longitude_x\"])\n",
    "    two = (row[\"latitude_y\"], row[\"longitude_y\"])\n",
    "    return great_circle(one, two).miles"
   ]
  },
  {
   "cell_type": "code",
   "execution_count": 5,
   "metadata": {},
   "outputs": [],
   "source": [
    "merged_df['trip_distance'] = merged_df.apply(distance, axis=1)\n",
    "distance_df = merged_df[['month','trip_distance','start_time','end_time']]"
   ]
  },
  {
   "cell_type": "code",
   "execution_count": 6,
   "metadata": {},
   "outputs": [
    {
     "data": {
      "image/png": "[encoded data removed]",
      "text/plain": [
       "<matplotlib.figure.Figure at 0x10e778f98>"
      ]
     },
     "metadata": {},
     "output_type": "display_data"
    }
   ],
   "source": [
    "import seaborn as sns\n",
    "distance_df = distance_df.groupby('month').sum()\n",
    "sns.barplot(distance_df.index, distance_df['trip_distance'])\n",
    "plt.title('Number of Miles Per Month (2017)')\n",
    "plt.ylabel('Distance in Miles')\n",
    "plt.tight_layout()\n",
    "plt.savefig('outputs/MilesPerMonth.png')"
   ]
  },
  {
   "cell_type": "code",
   "execution_count": null,
   "metadata": {},
   "outputs": [],
   "source": []
  }
 ],
 "metadata": {
  "kernelspec": {
   "display_name": "Python [conda env:anaconda3]",
   "language": "python",
   "name": "conda-env-anaconda3-py"
  },
  "language_info": {
   "codemirror_mode": {
    "name": "ipython",
    "version": 3
   },
   "file_extension": ".py",
   "mimetype": "text/x-python",
   "name": "python",
   "nbconvert_exporter": "python",
   "pygments_lexer": "ipython3",
   "version": "3.6.4"
  }
 },
 "nbformat": 4,
 "nbformat_minor": 2
}
